{
  "nbformat": 4,
  "nbformat_minor": 0,
  "metadata": {
    "colab": {
      "name": "Untitled10.ipynb",
      "provenance": [],
      "collapsed_sections": [],
      "machine_shape": "hm",
      "include_colab_link": true
    },
    "kernelspec": {
      "name": "python3",
      "display_name": "Python 3"
    }
  },
  "cells": [
    {
      "cell_type": "markdown",
      "metadata": {
        "id": "view-in-github",
        "colab_type": "text"
      },
      "source": [
        "<a href=\"https://colab.research.google.com/github/tigromol/CoelusTest/blob/master/final.ipynb\" target=\"_parent\"><img src=\"https://colab.research.google.com/assets/colab-badge.svg\" alt=\"Open In Colab\"/></a>"
      ]
    },
    {
      "cell_type": "markdown",
      "metadata": {
        "id": "-n_ZmhIUFmp-",
        "colab_type": "text"
      },
      "source": [
        ""
      ]
    },
    {
      "cell_type": "code",
      "metadata": {
        "id": "pbZu3u1mFnxi",
        "colab_type": "code",
        "colab": {}
      },
      "source": [
        "import numpy as np"
      ],
      "execution_count": 0,
      "outputs": []
    },
    {
      "cell_type": "code",
      "metadata": {
        "id": "I4mlUWSqIW8l",
        "colab_type": "code",
        "colab": {}
      },
      "source": [
        "def only_ones(list):\n",
        "  for i in list:\n",
        "    if i > 1:\n",
        "      return False\n",
        "  return True\n",
        "def vector_tester(vector, size):\n",
        "  print(np.reshape(vector,tuple(reversed(size))))"
      ],
      "execution_count": 0,
      "outputs": []
    },
    {
      "cell_type": "code",
      "metadata": {
        "id": "g_3ESXsUIlwp",
        "colab_type": "code",
        "colab": {}
      },
      "source": [
        "def init_rect(size, field):\n",
        "  if size[0] <= field[0] and size[1] <= field[1]:\n",
        "    area = field[0]*field[1]\n",
        "    hor_step = field[0]-size[0]+1\n",
        "    vert_step = field[1] - size[1]+1\n",
        "    init_matr = np.zeros(((hor_step) * (vert_step),area))\n",
        "    template = (([1] * size[0] + [0]*(field[0]-size[0]))*size[1])\n",
        "    i=0\n",
        "    for j in range(vert_step):\n",
        "      for k in range(hor_step):\n",
        "        k = ([0]*field[0])*j + [0]*k + template[:len(template)-(field[0]-size[0])] #template for iteration\n",
        "        init_matr[i] = k + [0]*(area-len(k))\n",
        "        i += 1\n",
        "    resulted_matr1 =init_matr\n",
        "  #same code for rotated rectangles\n",
        "  if size != tuple(reversed(size)):\n",
        "    size = tuple(reversed(size))\n",
        "    if size[0] <= field[0] and size[1] <= field[1]:\n",
        "      area = field[0]*field[1]\n",
        "      hor_step = field[0]-size[0]+1\n",
        "      vert_step = field[1] - size[1]+1\n",
        "      init_matr = np.zeros(((hor_step) * (vert_step),area))\n",
        "      template = (([1] * size[0] + [0]*(field[0]-size[0]))*size[1])\n",
        "      i=0\n",
        "      for j in range(vert_step):\n",
        "        for k in range(hor_step):\n",
        "          k = ([0]*field[0])*j + [0]*k + template[:len(template)-(field[0]-size[0])] #template for iteration\n",
        "          init_matr[i] = k + [0]*(area-len(k))\n",
        "          i += 1\n",
        "\n",
        "      resulted_matr2 = init_matr\n",
        "  if \"resulted_matr1\" in locals() and \"resulted_matr2\" in locals():\n",
        "    return np.vstack((resulted_matr1,resulted_matr2))\n",
        "  if \"resulted_matr1\" in locals():\n",
        "    return resulted_matr1\n",
        "  if \"resulted_matr2\" in locals():\n",
        "    return resulted_matr2\n",
        "  else:\n",
        "    return False\n",
        "\n",
        "def init_L(size,field):\n",
        "  if size[0] <= field[0] and size[1] <= field[1]:\n",
        "    area = field[0]*field[1]\n",
        "    hor_step = field[0]-size[0]+1\n",
        "    vert_step = field[1] - size[1]+1\n",
        "    init_matr = np.zeros(((hor_step) * (vert_step),area))\n",
        "    template = [1]*size[0] + [0]*(field[0]-size[0])  + ([1]+[0]*(field[0]-1))*(size[1]-2) +[1]\n",
        "    i=0\n",
        "    for j in range(vert_step):\n",
        "      for k in range(hor_step):\n",
        "        k = ([0]*field[0])*j + [0]*k + template #template for iteration\n",
        "        init_matr[i] = k + [0]*(area-len(k))\n",
        "        i += 1\n",
        "    resulted_matr1 = np.vstack((init_matr,[(np.rot90(np.reshape(x,field),2)).ravel() for x in init_matr]))\n",
        "  if size[1] <= field[0] and size[0] <= field[1]:\n",
        "    area = field[0]*field[1]\n",
        "    hor_step = field[0]-size[1]+1\n",
        "    vert_step = field[1] - size[0]+1\n",
        "    init_matr = np.zeros(((hor_step) * (vert_step),area))\n",
        "    template = [1]*size[1] + ([0]*(field[0]-1)+[1])*(size[0]-1)\n",
        "    print(template)\n",
        "    i=0\n",
        "    for j in range(vert_step):\n",
        "      for k in range(hor_step):\n",
        "        k = ([0]*field[0])*j + [0]*k + template #template for iteration\n",
        "        init_matr[i] = k + [0]*(area-len(k))\n",
        "        i += 1\n",
        "    resulted_matr2 = np.vstack((init_matr,[(np.rot90(np.reshape(x,field),2)).ravel() for x in init_matr]))\n",
        "  \n",
        "  if \"resulted_matr1\" in locals() and \"resulted_matr2\" in locals():\n",
        "    return np.vstack((resulted_matr1,resulted_matr2))\n",
        "  if \"resulted_matr1\" in locals():\n",
        "    return resulted_matr1\n",
        "  if \"resulted_matr2\" in locals():\n",
        "    return resulted_matr2\n",
        "  else:\n",
        "    return False\n",
        "    \n",
        " \n",
        "  \n",
        "    \n",
        "  "
      ],
      "execution_count": 0,
      "outputs": []
    },
    {
      "cell_type": "code",
      "metadata": {
        "id": "zIkjpTkbFQip",
        "colab_type": "code",
        "colab": {}
      },
      "source": [
        "def vect(list1,list2):\n",
        "  new_vect = np.zeros((list1.shape[0] * list2.shape[0],list1.shape[1]))\n",
        "  k = 0\n",
        "  for i in list1:\n",
        "    for j in list2:\n",
        "      tmp = i + j\n",
        "      if only_ones(tmp):\n",
        "        new_vect[k] = tmp\n",
        "        k+=1\n",
        "  return new_vect[:k]\n"
      ],
      "execution_count": 0,
      "outputs": []
    },
    {
      "cell_type": "code",
      "metadata": {
        "id": "uZOW_zg2GibL",
        "colab_type": "code",
        "colab": {}
      },
      "source": [
        "import ast\n",
        "def main():\n",
        "  print(\"Input tuple with rectangle size (wide,height)\")\n",
        "  size = ast.literal_eval(input())\n",
        "  print(\"Input tuples list with rectangles [((wide,height),count)]\")\n",
        "  rectangles = ast.literal_eval(input())\n",
        "  figures_rects = []\n",
        "  if len(rectangles)!=0:\n",
        "    for i in rectangles:\n",
        "      for k in range(i[1]):\n",
        "        figures_rects.append(i[0])\n",
        "  \n",
        "  print(\"Input tuples list with L-ominos [((left,right),count)]\")\n",
        "  l_ominos = ast.literal_eval(input())\n",
        "\n",
        "  figures_l = []\n",
        "  if len(l_ominos) != 0:\n",
        "    for i in l_ominos:\n",
        "      for k in range(i[1]):\n",
        "        figures_l.append(i[0])\n",
        "  print(figures_l)\n",
        "  \n",
        "  tmp = init_rect(figures_rects[0], size) #initiate with first figure\n",
        "  for i in figures_rects[1:]:\n",
        "    if type(tmp) != bool:\n",
        "      tmp = vect(tmp,init_rect(i, size))\n",
        "    else:\n",
        "      return False\n",
        "  for i in figures_l:\n",
        "    if type(tmp) != bool:\n",
        "      tmp = vect(tmp,init_L(i,size))\n",
        "    else:\n",
        "      return False\n",
        "  if type(tmp) != bool:\n",
        "    vector_tester(tmp[0],size)\n",
        "    return True\n",
        "  else:\n",
        "    return False\n",
        "    \n",
        "    "
      ],
      "execution_count": 0,
      "outputs": []
    },
    {
      "cell_type": "code",
      "metadata": {
        "id": "cO-fFzGRi8U4",
        "colab_type": "code",
        "outputId": "156f66dd-070a-4712-e76b-5f0ed868dd74",
        "colab": {
          "base_uri": "https://localhost:8080/",
          "height": 625
        }
      },
      "source": [
        "main()"
      ],
      "execution_count": 80,
      "outputs": [
        {
          "output_type": "stream",
          "text": [
            "Input tuple with rectangle size (wide,height)\n",
            "Input tuples list with rectangles [((wide,height),count)]\n",
            "Input tuples list with L-ominos [((left,right),count)]\n",
            "[(3, 2), (2, 2), (2, 2)]\n",
            "[1, 1, 0, 0, 1, 0, 0, 1]\n",
            "[1, 1, 0, 0, 1, 0, 0, 1]\n",
            "[0, 1, 1, 0, 0, 1, 0, 0, 1]\n",
            "[0, 0, 0, 1, 1, 0, 0, 1, 0, 0, 1]\n",
            "[0, 0, 0, 0, 1, 1, 0, 0, 1, 0, 0, 1]\n",
            "[0, 0, 0, 0, 0, 0, 1, 1, 0, 0, 1, 0, 0, 1]\n",
            "[0, 0, 0, 0, 0, 0, 0, 1, 1, 0, 0, 1, 0, 0, 1]\n",
            "[1, 1, 0, 0, 1]\n",
            "[1, 1, 0, 0, 1]\n",
            "[0, 1, 1, 0, 0, 1]\n",
            "[0, 0, 0, 1, 1, 0, 0, 1]\n",
            "[0, 0, 0, 0, 1, 1, 0, 0, 1]\n",
            "[0, 0, 0, 0, 0, 0, 1, 1, 0, 0, 1]\n",
            "[0, 0, 0, 0, 0, 0, 0, 1, 1, 0, 0, 1]\n",
            "[0, 0, 0, 0, 0, 0, 0, 0, 0, 1, 1, 0, 0, 1]\n",
            "[0, 0, 0, 0, 0, 0, 0, 0, 0, 0, 1, 1, 0, 0, 1]\n",
            "[1, 1, 0, 0, 1]\n",
            "[1, 1, 0, 0, 1]\n",
            "[0, 1, 1, 0, 0, 1]\n",
            "[0, 0, 0, 1, 1, 0, 0, 1]\n",
            "[0, 0, 0, 0, 1, 1, 0, 0, 1]\n",
            "[0, 0, 0, 0, 0, 0, 1, 1, 0, 0, 1]\n",
            "[0, 0, 0, 0, 0, 0, 0, 1, 1, 0, 0, 1]\n",
            "[0, 0, 0, 0, 0, 0, 0, 0, 0, 1, 1, 0, 0, 1]\n",
            "[0, 0, 0, 0, 0, 0, 0, 0, 0, 0, 1, 1, 0, 0, 1]\n",
            "[[1. 1. 0.]\n",
            " [1. 1. 1.]\n",
            " [1. 1. 1.]\n",
            " [1. 1. 1.]\n",
            " [1. 1. 1.]]\n"
          ],
          "name": "stdout"
        },
        {
          "output_type": "execute_result",
          "data": {
            "text/plain": [
              "True"
            ]
          },
          "metadata": {
            "tags": []
          },
          "execution_count": 80
        }
      ]
    }
  ]
}