{
  "nbformat": 4,
  "nbformat_minor": 0,
  "metadata": {
    "colab": {
      "name": "Untitled10.ipynb",
      "provenance": [],
      "include_colab_link": true
    },
    "kernelspec": {
      "name": "python3",
      "display_name": "Python 3"
    }
  },
  "cells": [
    {
      "cell_type": "markdown",
      "metadata": {
        "id": "view-in-github",
        "colab_type": "text"
      },
      "source": [
        "<a href=\"https://colab.research.google.com/github/tigromol/CoelusTest/blob/master/Functions.ipynb\" target=\"_parent\"><img src=\"https://colab.research.google.com/assets/colab-badge.svg\" alt=\"Open In Colab\"/></a>"
      ]
    },
    {
      "cell_type": "markdown",
      "metadata": {
        "id": "-n_ZmhIUFmp-",
        "colab_type": "text"
      },
      "source": [
        ""
      ]
    },
    {
      "cell_type": "code",
      "metadata": {
        "id": "pbZu3u1mFnxi",
        "colab_type": "code",
        "colab": {}
      },
      "source": [
        "import numpy as np"
      ],
      "execution_count": 0,
      "outputs": []
    },
    {
      "cell_type": "code",
      "metadata": {
        "id": "I4mlUWSqIW8l",
        "colab_type": "code",
        "colab": {}
      },
      "source": [
        "def only_ones(list):\n",
        "  for i in list:\n",
        "    if i > 1:\n",
        "      return False\n",
        "  return True\n",
        "def vector_tester(vector, size):\n",
        "  print(np.reshape(vector,size))"
      ],
      "execution_count": 0,
      "outputs": []
    },
    {
      "cell_type": "code",
      "metadata": {
        "id": "g_3ESXsUIlwp",
        "colab_type": "code",
        "colab": {}
      },
      "source": [
        "def init_rect(size, field):\n",
        "  area = field[0]*field[1]\n",
        "  hor_step = field[0]-size[0]+1\n",
        "  vert_step = field[1] - size[1]+1\n",
        "  init_matr = np.zeros(((hor_step) * (vert_step),area))\n",
        "  template = (([1] * size[0] + [0]*(field[0]-size[0]))*size[1])\n",
        "  i=0\n",
        "  for j in range(vert_step):\n",
        "    for k in range(hor_step):\n",
        "      k = ([0]*field[0])*j + [0]*k + template[:len(template)-(field[0]-size[0])] #template for iteration\n",
        "      init_matr[i] = k + [0]*(area-len(k))\n",
        "      i += 1\n",
        "  return init_matr  \n",
        "  "
      ],
      "execution_count": 0,
      "outputs": []
    },
    {
      "cell_type": "code",
      "metadata": {
        "id": "zIkjpTkbFQip",
        "colab_type": "code",
        "colab": {}
      },
      "source": [
        "def vect(list1,list2):\n",
        "  new_vect = np.zeros((list1.shape[0] * list2.shape[0],list1.shape[1]))\n",
        "  k = 0\n",
        "  for i in list1:\n",
        "    for j in list2:\n",
        "      new_vect[k] = i+j\n",
        "      k+=1\n",
        "  return filt(new_vect)\n",
        "def filt(matrice):\n",
        "  bool_arr = np.array([only_ones(row) for row in matrice])\n",
        "  return(matrice[bool_arr])"
      ],
      "execution_count": 0,
      "outputs": []
    },
    {
      "cell_type": "code",
      "metadata": {
        "id": "uZOW_zg2GibL",
        "colab_type": "code",
        "colab": {
          "base_uri": "https://localhost:8080/",
          "height": 104
        },
        "outputId": "3bf8e7b5-01d2-4d2f-ce03-ab6569604d5b"
      },
      "source": [
        "tmp = init_rect((2,2),(3,5))\n",
        "tmp1 = init_rect((2,2),(3,5))\n",
        "vector_tester(vect(tmp,tmp1)[4],(5,3))"
      ],
      "execution_count": 135,
      "outputs": [
        {
          "output_type": "stream",
          "text": [
            "[[0. 1. 1.]\n",
            " [0. 1. 1.]\n",
            " [1. 1. 0.]\n",
            " [1. 1. 0.]\n",
            " [0. 0. 0.]]\n"
          ],
          "name": "stdout"
        }
      ]
    }
  ]
}